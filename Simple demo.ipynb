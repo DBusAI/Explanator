{
 "cells": [
  {
   "cell_type": "code",
   "execution_count": 1,
   "metadata": {},
   "outputs": [],
   "source": [
    "from explanator import Explanator"
   ]
  },
  {
   "cell_type": "markdown",
   "metadata": {},
   "source": [
    "### Show ALL"
   ]
  },
  {
   "cell_type": "code",
   "execution_count": 2,
   "metadata": {},
   "outputs": [
    {
     "name": "stdout",
     "output_type": "stream",
     "text": [
      "Blur {'blur_limit': 7, 'always_apply': False, 'p': 0.5}\n",
      "--------------------------------------------------\n",
      "VerticalFlip {'always_apply': False, 'p': 0.5}\n",
      "--------------------------------------------------\n",
      "HorizontalFlip {'always_apply': False, 'p': 0.5}\n",
      "--------------------------------------------------\n",
      "Flip {'always_apply': False, 'p': 0.5}\n",
      "--------------------------------------------------\n",
      "Normalize {'mean': (0.485, 0.456, 0.406), 'std': (0.229, 0.224, 0.225), 'max_pixel_value': 255.0, 'always_apply': False, 'p': 1.0}\n",
      "--------------------------------------------------\n",
      "Transpose {'always_apply': False, 'p': 0.5}\n",
      "--------------------------------------------------\n",
      "RandomCrop {'always_apply': False, 'p': 1.0}\n",
      "--------------------------------------------------\n",
      "RandomGamma {'gamma_limit': (80, 120), 'always_apply': False, 'p': 0.5}\n",
      "--------------------------------------------------\n",
      "RandomRotate90 {'always_apply': False, 'p': 0.5}\n",
      "--------------------------------------------------\n",
      "Rotate {'limit': 90, 'interpolation': 1, 'border_mode': 4, 'value': None, 'always_apply': False, 'p': 0.5}\n",
      "--------------------------------------------------\n",
      "ShiftScaleRotate {'shift_limit': 0.0625, 'scale_limit': 0.1, 'rotate_limit': 45, 'interpolation': 1, 'border_mode': 4, 'value': None, 'always_apply': False, 'p': 0.5}\n",
      "--------------------------------------------------\n",
      "CenterCrop {'always_apply': False, 'p': 1.0}\n",
      "--------------------------------------------------\n",
      "OpticalDistortion {'distort_limit': 0.05, 'shift_limit': 0.05, 'interpolation': 1, 'border_mode': 4, 'value': None, 'always_apply': False, 'p': 0.5}\n",
      "--------------------------------------------------\n",
      "GridDistortion {'num_steps': 5, 'distort_limit': 0.3, 'interpolation': 1, 'border_mode': 4, 'value': None, 'always_apply': False, 'p': 0.5}\n",
      "--------------------------------------------------\n",
      "ElasticTransform {'alpha': 1, 'sigma': 50, 'alpha_affine': 50, 'interpolation': 1, 'border_mode': 4, 'value': None, 'always_apply': False, 'approximate': False, 'p': 0.5}\n",
      "--------------------------------------------------\n",
      "HueSaturationValue {'hue_shift_limit': 20, 'sat_shift_limit': 30, 'val_shift_limit': 20, 'always_apply': False, 'p': 0.5}\n",
      "--------------------------------------------------\n",
      "PadIfNeeded {'min_height': 1024, 'min_width': 1024, 'border_mode': 4, 'value': None, 'always_apply': False, 'p': 1.0}\n",
      "--------------------------------------------------\n",
      "RGBShift {'r_shift_limit': 20, 'g_shift_limit': 20, 'b_shift_limit': 20, 'always_apply': False, 'p': 0.5}\n",
      "--------------------------------------------------\n",
      "RandomBrightness {'limit': 0.2, 'always_apply': False, 'p': 0.5}\n",
      "--------------------------------------------------\n",
      "RandomContrast {'limit': 0.2, 'always_apply': False, 'p': 0.5}\n",
      "--------------------------------------------------\n",
      "MotionBlur {'blur_limit': 7, 'always_apply': False, 'p': 0.5}\n",
      "--------------------------------------------------\n",
      "MedianBlur {'blur_limit': 7, 'always_apply': False, 'p': 0.5}\n",
      "--------------------------------------------------\n",
      "GaussianBlur {'blur_limit': 7, 'always_apply': False, 'p': 0.5}\n",
      "--------------------------------------------------\n",
      "GaussNoise {'var_limit': (10.0, 50.0), 'always_apply': False, 'p': 0.5}\n",
      "--------------------------------------------------\n",
      "CLAHE {'clip_limit': 4.0, 'tile_grid_size': (8, 8), 'always_apply': False, 'p': 0.5}\n",
      "--------------------------------------------------\n",
      "ChannelShuffle {'always_apply': False, 'p': 0.5}\n",
      "--------------------------------------------------\n",
      "InvertImg {'always_apply': False, 'p': 0.5}\n",
      "--------------------------------------------------\n",
      "ToGray {'always_apply': False, 'p': 0.5}\n",
      "--------------------------------------------------\n",
      "JpegCompression {'quality_lower': 99, 'quality_upper': 100, 'always_apply': False, 'p': 0.5}\n",
      "--------------------------------------------------\n",
      "Cutout {'num_holes': 8, 'max_h_size': 8, 'max_w_size': 8, 'fill_value': 0, 'always_apply': False, 'p': 0.5}\n",
      "--------------------------------------------------\n",
      "CoarseDropout {'max_holes': 8, 'max_height': 8, 'max_width': 8, 'min_holes': None, 'min_height': None, 'min_width': None, 'fill_value': 0, 'always_apply': False, 'p': 0.5}\n",
      "--------------------------------------------------\n",
      "ToFloat {'max_value': None, 'always_apply': False, 'p': 1.0}\n",
      "--------------------------------------------------\n",
      "FromFloat {'dtype': 'uint16', 'max_value': None, 'always_apply': False, 'p': 1.0}\n",
      "--------------------------------------------------\n",
      "Crop {'x_min': 0, 'y_min': 0, 'x_max': 1024, 'y_max': 1024, 'always_apply': False, 'p': 1.0}\n",
      "--------------------------------------------------\n",
      "RandomScale {'scale_limit': 0.1, 'interpolation': 1, 'always_apply': False, 'p': 0.5}\n",
      "--------------------------------------------------\n",
      "LongestMaxSize {'max_size': 1024, 'interpolation': 1, 'always_apply': False, 'p': 1}\n",
      "--------------------------------------------------\n",
      "SmallestMaxSize {'max_size': 1024, 'interpolation': 1, 'always_apply': False, 'p': 1}\n",
      "--------------------------------------------------\n",
      "Resize {'interpolation': 1, 'always_apply': False, 'p': 1}\n",
      "--------------------------------------------------\n",
      "RandomSizedCrop {'w2h_ratio': 1.0, 'interpolation': 1, 'always_apply': False, 'p': 1.0}\n",
      "--------------------------------------------------\n",
      "RandomBrightnessContrast {'brightness_limit': 0.2, 'contrast_limit': 0.2, 'always_apply': False, 'p': 0.5}\n",
      "--------------------------------------------------\n",
      "RandomCropNearBBox {'max_part_shift': 0.3, 'always_apply': False, 'p': 1.0}\n",
      "--------------------------------------------------\n",
      "RandomSizedBBoxSafeCrop {'erosion_rate': 0.0, 'interpolation': 1, 'always_apply': False, 'p': 1.0}\n",
      "--------------------------------------------------\n",
      "RandomSnow {'snow_point_lower': 0.1, 'snow_point_upper': 0.3, 'brightness_coeff': 2.5, 'always_apply': False, 'p': 0.5}\n",
      "--------------------------------------------------\n",
      "RandomRain {'slant_lower': -10, 'slant_upper': 10, 'drop_length': 20, 'drop_width': 1, 'drop_color': (200, 200, 200), 'blur_value': 7, 'brightness_coefficient': 0.7, 'rain_type': None, 'always_apply': False, 'p': 0.5}\n",
      "--------------------------------------------------\n",
      "RandomFog {'fog_coef_lower': 0.3, 'fog_coef_upper': 1, 'alpha_coef': 0.08, 'always_apply': False, 'p': 0.5}\n",
      "--------------------------------------------------\n",
      "RandomSunFlare {'flare_roi': (0, 0, 1, 0.5), 'angle_lower': 0, 'angle_upper': 1, 'num_flare_circles_lower': 6, 'num_flare_circles_upper': 10, 'src_radius': 400, 'src_color': (255, 255, 255), 'always_apply': False, 'p': 0.5}\n",
      "--------------------------------------------------\n",
      "RandomShadow {'shadow_roi': (0, 0.5, 1, 1), 'num_shadows_lower': 1, 'num_shadows_upper': 2, 'shadow_dimension': 5, 'always_apply': False, 'p': 0.5}\n",
      "--------------------------------------------------\n",
      "Lambda {'image': None, 'mask': None, 'keypoint': None, 'bbox': None, 'name': None, 'always_apply': False, 'p': 1.0}\n",
      "--------------------------------------------------\n",
      "ChannelDropout {'channel_drop_range': (1, 1), 'fill_value': 0, 'always_apply': False, 'p': 0.5}\n",
      "--------------------------------------------------\n"
     ]
    },
    {
     "data": {
      "text/plain": [
       "<explanator.Explanator at 0x7fe1ade05860>"
      ]
     },
     "execution_count": 2,
     "metadata": {},
     "output_type": "execute_result"
    }
   ],
   "source": [
    "Explanator(transforms=[])"
   ]
  },
  {
   "cell_type": "markdown",
   "metadata": {},
   "source": [
    "### Show some"
   ]
  },
  {
   "cell_type": "code",
   "execution_count": 3,
   "metadata": {},
   "outputs": [],
   "source": [
    "from albumentations import Flip,Resize,Blur,RandomGamma"
   ]
  },
  {
   "cell_type": "code",
   "execution_count": 4,
   "metadata": {},
   "outputs": [
    {
     "name": "stdout",
     "output_type": "stream",
     "text": [
      "Flip {'always_apply': False, 'p': 0.5}\n",
      "--------------------------------------------------\n",
      "Resize {'interpolation': 1, 'always_apply': False, 'p': 1}\n",
      "--------------------------------------------------\n",
      "Blur {'blur_limit': 7, 'always_apply': False, 'p': 0.5}\n",
      "--------------------------------------------------\n"
     ]
    },
    {
     "data": {
      "text/plain": [
       "<explanator.Explanator at 0x7fe1adc955f8>"
      ]
     },
     "execution_count": 4,
     "metadata": {},
     "output_type": "execute_result"
    }
   ],
   "source": [
    "Explanator(transforms=[Flip,Resize,Blur])"
   ]
  },
  {
   "cell_type": "code",
   "execution_count": 5,
   "metadata": {},
   "outputs": [],
   "source": [
    "from explanator import AlbuWidget"
   ]
  },
  {
   "cell_type": "code",
   "execution_count": 6,
   "metadata": {},
   "outputs": [
    {
     "data": {
      "application/vnd.jupyter.widget-view+json": {
       "model_id": "6f90c10315e74c018d0547337d9fade2",
       "version_major": 2,
       "version_minor": 0
      },
      "text/plain": [
       "HBox(children=(VBox(children=(Label(value='blur_limit'), IntSlider(value=1, continuous_update=False, max=50, m…"
      ]
     },
     "metadata": {},
     "output_type": "display_data"
    },
    {
     "data": {
      "application/vnd.jupyter.widget-view+json": {
       "model_id": "17813052e46f40abaf8c7eb21c7f4253",
       "version_major": 2,
       "version_minor": 0
      },
      "text/plain": [
       "Output()"
      ]
     },
     "metadata": {},
     "output_type": "display_data"
    },
    {
     "data": {
      "text/plain": [
       "{'blur_limit': IntSlider(value=1, continuous_update=False, max=50, min=1)}"
      ]
     },
     "execution_count": 6,
     "metadata": {},
     "output_type": "execute_result"
    }
   ],
   "source": [
    "AlbuWidget(Blur)"
   ]
  },
  {
   "cell_type": "code",
   "execution_count": 7,
   "metadata": {},
   "outputs": [
    {
     "data": {
      "application/vnd.jupyter.widget-view+json": {
       "model_id": "157f36680ed64591b9429d89f4e1686c",
       "version_major": 2,
       "version_minor": 0
      },
      "text/plain": [
       "HBox(children=(VBox(children=(Label(value='gamma_limit'), IntRangeSlider(value=(50, 70), continuous_update=Fal…"
      ]
     },
     "metadata": {},
     "output_type": "display_data"
    },
    {
     "data": {
      "application/vnd.jupyter.widget-view+json": {
       "model_id": "00aed6dc0fe746d5b7801414683ee7a8",
       "version_major": 2,
       "version_minor": 0
      },
      "text/plain": [
       "Output()"
      ]
     },
     "metadata": {},
     "output_type": "display_data"
    },
    {
     "data": {
      "text/plain": [
       "{'gamma_limit': IntRangeSlider(value=(50, 70), continuous_update=False, max=200, min=5)}"
      ]
     },
     "execution_count": 7,
     "metadata": {},
     "output_type": "execute_result"
    }
   ],
   "source": [
    "AlbuWidget(RandomGamma)"
   ]
  },
  {
   "cell_type": "code",
   "execution_count": null,
   "metadata": {},
   "outputs": [],
   "source": []
  }
 ],
 "metadata": {
  "kernelspec": {
   "display_name": "Python 3",
   "language": "python",
   "name": "python3"
  },
  "language_info": {
   "codemirror_mode": {
    "name": "ipython",
    "version": 3
   },
   "file_extension": ".py",
   "mimetype": "text/x-python",
   "name": "python",
   "nbconvert_exporter": "python",
   "pygments_lexer": "ipython3",
   "version": "3.6.7"
  }
 },
 "nbformat": 4,
 "nbformat_minor": 2
}
